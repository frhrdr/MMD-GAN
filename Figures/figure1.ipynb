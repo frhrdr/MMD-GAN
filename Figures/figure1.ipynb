{
 "cells": [
  {
   "cell_type": "code",
   "execution_count": 1,
   "metadata": {},
   "outputs": [],
   "source": [
    "\"\"\"\n",
    "Illustration of MMD loss\n",
    "\"\"\"\n",
    "import numpy as np\n",
    "import matplotlib.pyplot as plt\n",
    "\n",
    "do_plot = True\n",
    "\n",
    "# data\n",
    "xr = 0.15*np.random.randn(2, 6)  # N-by-1\n",
    "xg = 0.15*np.random.randn(2, 6)\n"
   ]
  },
  {
   "cell_type": "code",
   "execution_count": 2,
   "metadata": {},
   "outputs": [],
   "source": [
    "# plot\n",
    "if do_plot:\n",
    "    fig, ax = plt.subplots(1, 1, figsize=(6.4, 4.8))\n",
    "    plt.scatter(\n",
    "        xr[0], xr[1], marker='o', c='tab:gray', \n",
    "        s=40, linewidths=20, alpha=0.5)\n",
    "    plt.scatter(\n",
    "        xg[0], xg[1], marker='o', c='tab:red', \n",
    "        s=40, linewidths=20, alpha=0.5)\n",
    "    ax.legend(\n",
    "        ['R', 'G'], frameon=True, fontsize=15, labelspacing=1, borderpad=0.5)\n",
    "    plt.show()\n"
   ]
  },
  {
   "cell_type": "code",
   "execution_count": 4,
   "metadata": {
    "collapsed": true
   },
   "outputs": [
    {
     "name": "stdout",
     "output_type": "stream",
     "text": [
      "step 0, mmd -0.024196505546569824\n"
     ]
    },
    {
     "name": "stdout",
     "output_type": "stream",
     "text": [
      "step 30, mmd -0.015836477279663086\nstep 60, mmd -0.0023784637451171875\n"
     ]
    },
    {
     "name": "stdout",
     "output_type": "stream",
     "text": [
      "step 90, mmd 0.02160811424255371\nstep 120, mmd 0.06640219688415527\n"
     ]
    },
    {
     "name": "stdout",
     "output_type": "stream",
     "text": [
      "step 150, mmd 0.1494077444076538\nstep 180, mmd 0.2934000492095947\n"
     ]
    },
    {
     "name": "stdout",
     "output_type": "stream",
     "text": [
      "step 210, mmd 0.5120537281036377\nstep 240, mmd 0.7853901386260986\n"
     ]
    },
    {
     "name": "stdout",
     "output_type": "stream",
     "text": [
      "step 270, mmd 1.0607848167419434\nstep 300, mmd 1.2927263975143433\n"
     ]
    },
    {
     "name": "stdout",
     "output_type": "stream",
     "text": [
      "step 330, mmd 1.4675564765930176\n"
     ]
    },
    {
     "name": "stdout",
     "output_type": "stream",
     "text": [
      "step 360, mmd 1.5929691791534424\nstep 390, mmd 1.6819651126861572\n"
     ]
    },
    {
     "name": "stdout",
     "output_type": "stream",
     "text": [
      "step 420, mmd 1.7456884384155273\n"
     ]
    }
   ],
   "source": [
    "import tensorflow as tf\n",
    "from GeneralTools.math_func import matrix_mean_wo_diagonal\n",
    "from GeneralTools.graph_func import MySession\n",
    "\n",
    "max_step = 450\n",
    "lr = 1e-2\n",
    "query_step = 100\n",
    "do_plot = True\n",
    "use_attractive_loss = True\n",
    "folder = '../animation_mmd/'\n",
    "do_save = False\n",
    "\n",
    "\n",
    "def pd2(m1, m2):\n",
    "    \"\"\" squared pair-wise distance\n",
    "    \n",
    "    :param m1: 2-by-N1\n",
    "    :param m2: 2-by-N2\n",
    "    :return: \n",
    "    \"\"\"\n",
    "    aa = tf.reduce_sum(tf.multiply(m1, m1), axis=0, keepdims=True)  # 1-by-N1\n",
    "    bb = tf.reduce_sum(tf.multiply(m2, m2), axis=0, keepdims=True)  # 1-by-N2\n",
    "    ab = tf.matmul(m1, m2, transpose_a=True)  # N1-by-N2\n",
    "    \n",
    "    return tf.clip_by_value(\n",
    "        tf.transpose(aa, perm=(1, 0)) + bb - 2.0*ab, \n",
    "        clip_value_min=0.0, clip_value_max=10000.0)\n",
    "\n",
    "\n",
    "def kernel(m, sigma=1.0):\n",
    "    return tf.exp(-m/sigma)  # N1-by-N2\n",
    "\n",
    "\n",
    "def e_kernel(m):\n",
    "    ms = tf.cast(m.get_shape().as_list(), tf.float32)\n",
    "    return matrix_mean_wo_diagonal(m, ms[0], ms[1])\n",
    "\n",
    "\n",
    "with tf.Graph().as_default():\n",
    "    xr_tf = tf.Variable(xr, name='r', dtype=tf.float32)\n",
    "    xg_tf = tf.Variable(xg, name='g', dtype=tf.float32)\n",
    "    \n",
    "    d2r = pd2(xr_tf, xr_tf)\n",
    "    d2g = pd2(xg_tf, xg_tf)\n",
    "    d2rg = pd2(xr_tf, xg_tf)\n",
    "    kr = kernel(d2r, sigma=1.0)\n",
    "    kg = kernel(d2g, sigma=1.0)\n",
    "    krg = kernel(d2rg, sigma=1.0)\n",
    "    \n",
    "    if use_attractive_loss:\n",
    "        mmd_att = e_kernel(kr) + e_kernel(kg)\n",
    "        mmd_rep = - 2*e_kernel(krg)\n",
    "        \n",
    "        gr_att = tf.gradients(mmd_att, xr_tf)[0]\n",
    "        gg_att = tf.gradients(mmd_att, xg_tf)[0]\n",
    "        gr_rep = tf.gradients(mmd_rep, xr_tf)[0]\n",
    "        gg_rep = tf.gradients(mmd_rep, xg_tf)[0]\n",
    "    else:\n",
    "        mmd_att = e_kernel(kg)\n",
    "        mmd_rep = - e_kernel(kr)\n",
    "        \n",
    "        gr_att = tf.zeros([2, 6])\n",
    "        gg_att = tf.gradients(mmd_att, xg_tf)[0]\n",
    "        gr_rep = tf.gradients(mmd_rep, xr_tf)[0]\n",
    "        gg_rep = tf.zeros([2, 6])\n",
    "    \n",
    "    mmd = mmd_att + mmd_rep\n",
    "    gr = tf.gradients(mmd, xr_tf)[0]\n",
    "    gg = tf.gradients(mmd, xg_tf)[0]\n",
    "    lr = tf.constant(lr, dtype=tf.float32)\n",
    "    opr = tf.compat.v1.assign(xr_tf, xr_tf + gr*lr)\n",
    "    opg = tf.compat.v1.assign(xg_tf, xg_tf + gg*lr)\n",
    "    \n",
    "    sess = tf.Session()\n",
    "    init_op = tf.group(tf.global_variables_initializer(), tf.local_variables_initializer())\n",
    "    sess.run(init_op)\n",
    "    \n",
    "    fig_index = 0\n",
    "    for step in range(max_step):\n",
    "        _, _, mmd_np, xr_np, xg_np = sess.run(\n",
    "            [opr, opg, mmd, xr_tf, xg_tf])\n",
    "        \n",
    "        if step % query_step == 0:\n",
    "            print('step {}, mmd {}'.format(step, mmd_np))\n",
    "            if do_plot:\n",
    "                fig, ax = plt.subplots(1, 1, figsize=(6.4, 4.8))\n",
    "                plt.scatter(\n",
    "                    xr_np[0], xr_np[1], marker='o', c='tab:gray', \n",
    "                    s=40, linewidths=20, alpha=0.5)\n",
    "                plt.scatter(\n",
    "                    xg_np[0], xg_np[1], marker='o', c='tab:red', \n",
    "                    s=40, linewidths=20, alpha=0.5)\n",
    "                ax.legend(\n",
    "                    ['R', 'G'], frameon=True, fontsize=15, labelspacing=1, borderpad=0.5)\n",
    "                \n",
    "                gr_att_np, gg_att_np, gr_rep_np, gg_rep_np = sess.run(\n",
    "                    [gr_att/2.0, gg_att/2.0, gr_rep/2.0, gg_rep/2.0])\n",
    "                for i in range(xr_np.shape[1]):\n",
    "                    if use_attractive_loss:\n",
    "                        plt.arrow(\n",
    "                            xr_np[0, i], xr_np[1, i], gr_att_np[0, i], gr_att_np[1, i], \n",
    "                            color='tab:blue', width=0.01)\n",
    "                    plt.arrow(\n",
    "                        xr_np[0, i], xr_np[1, i], gr_rep_np[0, i], gr_rep_np[1, i], \n",
    "                        color='tab:orange', width=0.01)\n",
    "                for i in range(xg_np.shape[1]):\n",
    "                    plt.arrow(\n",
    "                        xg_np[0, i], xg_np[1, i], gg_att_np[0, i], gg_att_np[1, i], \n",
    "                        color='tab:blue', width=0.01)\n",
    "                    if use_attractive_loss:\n",
    "                        plt.arrow(\n",
    "                            xg_np[0, i], xg_np[1, i], gg_rep_np[0, i], gg_rep_np[1, i], \n",
    "                            color='tab:orange', width=0.01)\n",
    "                \n",
    "                _, _, _, _ = plt.axis([-1.0, 1.0, -1.0, 1.0])\n",
    "                \n",
    "                if do_save:\n",
    "                    fig_index = fig_index+1\n",
    "                    if use_attractive_loss:\n",
    "                        figurename = 'mmd_att_{:03d}.png'.format(fig_index)\n",
    "                    else:\n",
    "                        figurename = 'mmd_rep_{:03d}.png'.format(fig_index)\n",
    "                    plt.savefig(\n",
    "                        folder + figurename, format='png', bbox_inches='tight')\n",
    "                else:\n",
    "                    plt.show()\n",
    "        \n",
    "    sess.close()\n",
    "    plt.close('all')\n"
   ]
  },
  {
   "cell_type": "code",
   "execution_count": 5,
   "metadata": {
    "collapsed": true
   },
   "outputs": [
    {
     "name": "stdout",
     "output_type": "stream",
     "text": [
      "step 0, mmd 1.7907965183258057\nstep 100, mmd 1.7025774717330933\n"
     ]
    },
    {
     "name": "stdout",
     "output_type": "stream",
     "text": [
      "step 200, mmd 1.533265471458435\nstep 300, mmd 1.1779274940490723\n"
     ]
    },
    {
     "name": "stdout",
     "output_type": "stream",
     "text": [
      "step 400, mmd 0.636290431022644\nstep 500, mmd 0.24290156364440918\n"
     ]
    }
   ],
   "source": [
    "max_step = 600\n",
    "lr = 1e-2\n",
    "query_step = 100\n",
    "folder = '../animation_mmd/'\n",
    "do_save = False\n",
    "\n",
    "with tf.Graph().as_default():\n",
    "    xr_tf = tf.Variable(xr_np, name='r', dtype=tf.float32)\n",
    "    xg_tf = tf.Variable(xg_np, name='g', dtype=tf.float32)\n",
    "    \n",
    "    d2r = pd2(xr_tf, xr_tf)\n",
    "    d2g = pd2(xg_tf, xg_tf)\n",
    "    d2rg = pd2(xr_tf, xg_tf)\n",
    "    kr = kernel(d2r, sigma=1.0)\n",
    "    kg = kernel(d2g, sigma=1.0)\n",
    "    krg = kernel(d2rg, sigma=1.0)\n",
    "    \n",
    "    mmd_att = e_kernel(kr) + e_kernel(kg)\n",
    "    mmd_rep = - 2*e_kernel(krg)\n",
    "    \n",
    "    gg_att = tf.gradients(mmd_att, xg_tf)[0]\n",
    "    gg_rep = tf.gradients(mmd_rep, xg_tf)[0]\n",
    "    \n",
    "    mmd = mmd_att + mmd_rep\n",
    "    gg = tf.gradients(mmd, xg_tf)[0]\n",
    "    lr = tf.constant(lr, dtype=tf.float32)\n",
    "    opg = tf.compat.v1.assign(xg_tf, xg_tf - gg*lr)\n",
    "    \n",
    "    sess = tf.Session()\n",
    "    init_op = tf.group(tf.global_variables_initializer(), tf.local_variables_initializer())\n",
    "    sess.run(init_op)\n",
    "    \n",
    "    fig_index = 0\n",
    "    for step in range(max_step):\n",
    "        _, mmd_np2, xr_np2, xg_np2 = sess.run(\n",
    "            [opg, mmd, xr_tf, xg_tf])\n",
    "        \n",
    "        if step % query_step == 0:\n",
    "            print('step {}, mmd {}'.format(step, mmd_np2))\n",
    "            if do_plot:\n",
    "                fig, ax = plt.subplots(1, 1, figsize=(6.4, 4.8))\n",
    "                plt.scatter(\n",
    "                    xr_np2[0], xr_np2[1], marker='o', c='tab:gray', \n",
    "                    s=40, linewidths=20, alpha=0.5)\n",
    "                plt.scatter(\n",
    "                    xg_np2[0], xg_np2[1], marker='o', c='tab:red', \n",
    "                    s=40, linewidths=20, alpha=0.5)\n",
    "                ax.legend(\n",
    "                    ['R', 'G'], loc='upper left', frameon=True, fontsize=15, labelspacing=1, borderpad=0.5)\n",
    "                \n",
    "                gg_att_np, gg_rep_np = sess.run(\n",
    "                    [gg_att/2.0, gg_rep/2.0])\n",
    "                for i in range(xg_np2.shape[1]):\n",
    "                    plt.arrow(\n",
    "                        xg_np2[0, i], xg_np2[1, i], -gg_att_np[0, i], -gg_att_np[1, i], \n",
    "                        color='tab:orange', width=0.01)\n",
    "                    plt.arrow(\n",
    "                        xg_np2[0, i], xg_np2[1, i], -gg_rep_np[0, i], -gg_rep_np[1, i], \n",
    "                        color='tab:blue', width=0.01)\n",
    "                \n",
    "                _, _, _, _ = plt.axis([-1.0, 1.0, -1.0, 1.0])\n",
    "                \n",
    "                if do_save:\n",
    "                    fig_index = fig_index+1\n",
    "                    if use_attractive_loss:\n",
    "                        figurename = 'g_mmd_att_{:03d}.png'.format(fig_index)\n",
    "                    else:\n",
    "                        figurename = 'g_mmd_rep_{:03d}.png'.format(fig_index)\n",
    "                    plt.savefig(\n",
    "                        folder + figurename, format='png', bbox_inches='tight')\n",
    "                else:\n",
    "                    plt.show()\n",
    "                    \n",
    "    sess.close()\n",
    "    plt.close('all')\n"
   ]
  },
  {
   "cell_type": "code",
   "execution_count": null,
   "metadata": {},
   "outputs": [],
   "source": []
  }
 ],
 "metadata": {
  "kernelspec": {
   "display_name": "Python 2",
   "language": "python",
   "name": "python2"
  },
  "language_info": {
   "codemirror_mode": {
    "name": "ipython",
    "version": 2
   },
   "file_extension": ".py",
   "mimetype": "text/x-python",
   "name": "python",
   "nbconvert_exporter": "python",
   "pygments_lexer": "ipython2",
   "version": "2.7.6"
  }
 },
 "nbformat": 4,
 "nbformat_minor": 0
}
